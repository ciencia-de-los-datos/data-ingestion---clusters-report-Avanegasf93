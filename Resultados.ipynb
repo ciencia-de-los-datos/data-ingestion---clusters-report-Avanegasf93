{
 "cells": [
  {
   "cell_type": "code",
   "execution_count": null,
   "metadata": {},
   "outputs": [],
   "source": [
    "\"\"\"\n",
    "Ingestión de datos - Reporte de clusteres\n",
    "-----------------------------------------------------------------------------------------\n",
    "\n",
    "Construya un dataframe de Pandas a partir del archivo 'clusters_report.txt', teniendo en\n",
    "cuenta que los nombres de las columnas deben ser en minusculas, reemplazando los espacios\n",
    "por guiones bajos; y que las palabras clave deben estar separadas por coma y con un solo \n",
    "espacio entre palabra y palabra.\n",
    "\n",
    "\n",
    "\"\"\""
   ]
  },
  {
   "cell_type": "code",
   "execution_count": 1,
   "metadata": {},
   "outputs": [],
   "source": [
    "import pandas as pd"
   ]
  },
  {
   "cell_type": "code",
   "execution_count": 2,
   "metadata": {},
   "outputs": [
    {
     "data": {
      "text/html": [
       "<div>\n",
       "<style scoped>\n",
       "    .dataframe tbody tr th:only-of-type {\n",
       "        vertical-align: middle;\n",
       "    }\n",
       "\n",
       "    .dataframe tbody tr th {\n",
       "        vertical-align: top;\n",
       "    }\n",
       "\n",
       "    .dataframe thead th {\n",
       "        text-align: right;\n",
       "    }\n",
       "</style>\n",
       "<table border=\"1\" class=\"dataframe\">\n",
       "  <thead>\n",
       "    <tr style=\"text-align: right;\">\n",
       "      <th></th>\n",
       "      <th>cluster</th>\n",
       "      <th>cantidad_de_palabras_clave</th>\n",
       "      <th>porcentaje_de_palabras_clave</th>\n",
       "      <th>principales_palabras_clave</th>\n",
       "    </tr>\n",
       "  </thead>\n",
       "  <tbody>\n",
       "    <tr>\n",
       "      <th>0</th>\n",
       "      <td>1</td>\n",
       "      <td>105</td>\n",
       "      <td>15,9 %</td>\n",
       "      <td>maximum power point tracking, fuzzy-logic base...</td>\n",
       "    </tr>\n",
       "    <tr>\n",
       "      <th>1</th>\n",
       "      <td></td>\n",
       "      <td></td>\n",
       "      <td></td>\n",
       "      <td>photo-voltaic  system,  differential   evoluti...</td>\n",
       "    </tr>\n",
       "    <tr>\n",
       "      <th>2</th>\n",
       "      <td></td>\n",
       "      <td></td>\n",
       "      <td></td>\n",
       "      <td>algorithm, double-fed induction generator (dfi...</td>\n",
       "    </tr>\n",
       "    <tr>\n",
       "      <th>3</th>\n",
       "      <td></td>\n",
       "      <td></td>\n",
       "      <td></td>\n",
       "      <td>photo voltaic array, firefly algorithm, partia...</td>\n",
       "    </tr>\n",
       "    <tr>\n",
       "      <th>4</th>\n",
       "      <td>2</td>\n",
       "      <td>102</td>\n",
       "      <td>15,4 %</td>\n",
       "      <td>support vector machine,  long  short-term  mem...</td>\n",
       "    </tr>\n",
       "  </tbody>\n",
       "</table>\n",
       "</div>"
      ],
      "text/plain": [
       "  cluster cantidad_de_palabras_clave porcentaje_de_palabras_clave  \\\n",
       "0       1                        105                       15,9 %   \n",
       "1                                                                   \n",
       "2                                                                   \n",
       "3                                                                   \n",
       "4       2                        102                       15,4 %   \n",
       "\n",
       "                          principales_palabras_clave  \n",
       "0  maximum power point tracking, fuzzy-logic base...  \n",
       "1  photo-voltaic  system,  differential   evoluti...  \n",
       "2  algorithm, double-fed induction generator (dfi...  \n",
       "3  photo voltaic array, firefly algorithm, partia...  \n",
       "4  support vector machine,  long  short-term  mem...  "
      ]
     },
     "execution_count": 2,
     "metadata": {},
     "output_type": "execute_result"
    }
   ],
   "source": [
    "dataset=pd.read_fwf(\"clusters_report.txt\", widths = [9, 16, 16, 80], skiprows = [0,1,2,3],\n",
    "    names = ['cluster', 'cantidad_de_palabras_clave', 'porcentaje_de_palabras_clave', 'principales_palabras_clave'], \n",
    "    na_filter = False \n",
    "   \n",
    ")\n",
    "dataset.head()\n",
    "#Definimos el ancho de cada columna para tomar los espacios en blanco del TXT\n",
    "#cambiamos el nombre de las columnas\n",
    " #eliminamos las primeras columnas que incluían otros encabezados\n",
    " #Quitamos los valores NaN de los faltantes"
   ]
  },
  {
   "cell_type": "code",
   "execution_count": 14,
   "metadata": {},
   "outputs": [],
   "source": [
    "#=dataset.replace({\"{principales_palabras_clave\":{\"  \":\" \", \"   \":\" \", \"    \":\" \", \"     \":\" \"}})\n",
    "dataset['principales_palabras_clave'].replace({\"  \": \" \"}, regex=True, inplace=(True))\n",
    "dataset['principales_palabras_clave'].replace({\"   \": \" \"}, regex=True, inplace=(True))\n",
    "dataset['principales_palabras_clave'].replace({\"    \": \" \"}, regex=True, inplace=(True))\n",
    "dataset['principales_palabras_clave'].replace({\"     \": \" \"}, regex=True, inplace=(True))\n",
    "\n",
    "#print(dataset[\"principales_palabras_clave\"])"
   ]
  },
  {
   "cell_type": "code",
   "execution_count": 15,
   "metadata": {},
   "outputs": [],
   "source": [
    "for indice, contenido in enumerate(dataset['cluster']):\n",
    "    if contenido =='':\n",
    "        dataset['cluster'].iloc[indice] = dataset['cluster'].iloc[indice-1]"
   ]
  },
  {
   "cell_type": "code",
   "execution_count": 16,
   "metadata": {},
   "outputs": [],
   "source": [
    "for indice, contenido in enumerate(dataset['cantidad_de_palabras_clave']):\n",
    "    if contenido =='':\n",
    "        dataset['cantidad_de_palabras_clave'].iloc[indice] = dataset['cantidad_de_palabras_clave'].iloc[indice-1]"
   ]
  },
  {
   "cell_type": "code",
   "execution_count": 17,
   "metadata": {},
   "outputs": [],
   "source": [
    "for indice, contenido in enumerate(dataset['porcentaje_de_palabras_clave']):\n",
    "    if contenido =='':\n",
    "        dataset['porcentaje_de_palabras_clave'].iloc[indice] = dataset['porcentaje_de_palabras_clave'].iloc[indice-1]"
   ]
  },
  {
   "cell_type": "code",
   "execution_count": 18,
   "metadata": {},
   "outputs": [],
   "source": [
    "dataset['porcentaje_de_palabras_clave'].replace({\"%\": ''}, regex=True, inplace=(True))\n",
    "dataset['porcentaje_de_palabras_clave'].replace({\",\": '.'}, regex=True, inplace=(True))\n",
    "#print(dataset)"
   ]
  },
  {
   "cell_type": "code",
   "execution_count": 19,
   "metadata": {},
   "outputs": [],
   "source": [
    "dataset['cluster'] = dataset['cluster'].astype(int)\n",
    "dataset['cantidad_de_palabras_clave'] = dataset['cantidad_de_palabras_clave'].astype(int)\n",
    "dataset['porcentaje_de_palabras_clave'] = dataset['porcentaje_de_palabras_clave'].astype(float)"
   ]
  },
  {
   "cell_type": "code",
   "execution_count": 20,
   "metadata": {},
   "outputs": [],
   "source": [
    "dataset = dataset.groupby(['cluster','cantidad_de_palabras_clave','porcentaje_de_palabras_clave'])['principales_palabras_clave'].apply(' '.join).reset_index()\n",
    "\n",
    "dataset['principales_palabras_clave'].replace({\", \": \",\"}, regex=True, inplace=(True))\n",
    "dataset['principales_palabras_clave'].replace({\",\": \", \"}, regex=True, inplace=(True))\n",
    "dataset['principales_palabras_clave']=dataset['principales_palabras_clave'].str.strip()\n",
    "\n",
    "#print(dataset['principales_palabras_clave'][0])"
   ]
  },
  {
   "cell_type": "code",
   "execution_count": 21,
   "metadata": {},
   "outputs": [],
   "source": [
    "dataset[\"principales_palabras_clave\"] = dataset[\"principales_palabras_clave\"].str.rstrip('.')\n",
    "#dataset['principales_palabras_clave'].str.rstrip('principales_palabras_clave'[-2])\n",
    "#dataset['principales_palabras_clave'].replace({'.': ''}, regex=True, inplace=(True))\n",
    "\n",
    "#print(dataset['principales_palabras_clave'][0])\n"
   ]
  },
  {
   "cell_type": "code",
   "execution_count": 22,
   "metadata": {},
   "outputs": [
    {
     "name": "stdout",
     "output_type": "stream",
     "text": [
      "maximum power point tracking, fuzzy-logic based control, photo voltaic (pv), photo-voltaic system, differential evolution algorithm, evolutionary algorithm, double-fed induction generator (dfig), ant colony optimisation, photo voltaic array, firefly algorithm, partial shade\n"
     ]
    }
   ],
   "source": [
    "print(dataset['principales_palabras_clave'][0])"
   ]
  },
  {
   "cell_type": "code",
   "execution_count": 81,
   "metadata": {},
   "outputs": [
    {
     "name": "stdout",
     "output_type": "stream",
     "text": [
      "support vector machine, long short-term memory, back-propagation neuralnetwork, convolution neural network, speed wind prediction, energyconsumption, wind power forecasting, extreme learning machine, recurrent-neural-network (rnn), radial basis function (rbf) networks, windfarm\n"
     ]
    }
   ],
   "source": [
    "print(dataset['principales_palabras_clave'][1])"
   ]
  },
  {
   "cell_type": "code",
   "execution_count": 55,
   "metadata": {},
   "outputs": [
    {
     "name": "stdout",
     "output_type": "stream",
     "text": [
      "smart grid, wind power, reinforcement learning, energy management, energyefficiency, solar energy, deep reinforcement learning, demand-response (dr),internet of things, energy harvester, q-learning\n"
     ]
    }
   ],
   "source": [
    "print(dataset['principales_palabras_clave'][2])"
   ]
  },
  {
   "cell_type": "code",
   "execution_count": 23,
   "metadata": {},
   "outputs": [
    {
     "data": {
      "text/plain": [
       "True"
      ]
     },
     "execution_count": 23,
     "metadata": {},
     "output_type": "execute_result"
    }
   ],
   "source": [
    "dataset['principales_palabras_clave'][0] == \"maximum power point tracking, fuzzy-logic based control, photo voltaic (pv), photo-voltaic system, differential evolution algorithm, evolutionary algorithm, double-fed induction generator (dfig), ant colony optimisation, photo voltaic array, firefly algorithm, partial shade\""
   ]
  }
 ],
 "metadata": {
  "kernelspec": {
   "display_name": "Python 3.10.8 64-bit (microsoft store)",
   "language": "python",
   "name": "python3"
  },
  "language_info": {
   "codemirror_mode": {
    "name": "ipython",
    "version": 3
   },
   "file_extension": ".py",
   "mimetype": "text/x-python",
   "name": "python",
   "nbconvert_exporter": "python",
   "pygments_lexer": "ipython3",
   "version": "3.10.8"
  },
  "orig_nbformat": 4,
  "vscode": {
   "interpreter": {
    "hash": "d48aa67a9e3abb47a502c9c24e35edce279ee86d3fa64d9253e5e92d1c0524e7"
   }
  }
 },
 "nbformat": 4,
 "nbformat_minor": 2
}
