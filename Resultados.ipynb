{
 "cells": [
  {
   "cell_type": "code",
   "execution_count": null,
   "metadata": {},
   "outputs": [],
   "source": [
    "\"\"\"\n",
    "Ingestión de datos - Reporte de clusteres\n",
    "-----------------------------------------------------------------------------------------\n",
    "\n",
    "Construya un dataframe de Pandas a partir del archivo 'clusters_report.txt', teniendo en\n",
    "cuenta que los nombres de las columnas deben ser en minusculas, reemplazando los espacios\n",
    "por guiones bajos; y que las palabras clave deben estar separadas por coma y con un solo \n",
    "espacio entre palabra y palabra.\n",
    "\n",
    "\n",
    "\"\"\""
   ]
  },
  {
   "cell_type": "code",
   "execution_count": 18,
   "metadata": {},
   "outputs": [],
   "source": [
    "import pandas as pd"
   ]
  },
  {
   "cell_type": "code",
   "execution_count": 86,
   "metadata": {},
   "outputs": [
    {
     "data": {
      "text/html": [
       "<div>\n",
       "<style scoped>\n",
       "    .dataframe tbody tr th:only-of-type {\n",
       "        vertical-align: middle;\n",
       "    }\n",
       "\n",
       "    .dataframe tbody tr th {\n",
       "        vertical-align: top;\n",
       "    }\n",
       "\n",
       "    .dataframe thead th {\n",
       "        text-align: right;\n",
       "    }\n",
       "</style>\n",
       "<table border=\"1\" class=\"dataframe\">\n",
       "  <thead>\n",
       "    <tr style=\"text-align: right;\">\n",
       "      <th></th>\n",
       "      <th>cluster</th>\n",
       "      <th>cantidad_de_palabras_clave</th>\n",
       "      <th>porcentaje_de_palabras_clave</th>\n",
       "      <th>principales_palabras_clave</th>\n",
       "    </tr>\n",
       "  </thead>\n",
       "  <tbody>\n",
       "    <tr>\n",
       "      <th>0</th>\n",
       "      <td>1</td>\n",
       "      <td>105</td>\n",
       "      <td>15,9 %</td>\n",
       "      <td>maximum power point tracking, fuzzy-logic base...</td>\n",
       "    </tr>\n",
       "    <tr>\n",
       "      <th>1</th>\n",
       "      <td></td>\n",
       "      <td></td>\n",
       "      <td></td>\n",
       "      <td>photo-voltaic  system,  differential   evoluti...</td>\n",
       "    </tr>\n",
       "    <tr>\n",
       "      <th>2</th>\n",
       "      <td></td>\n",
       "      <td></td>\n",
       "      <td></td>\n",
       "      <td>algorithm, double-fed induction generator (dfi...</td>\n",
       "    </tr>\n",
       "    <tr>\n",
       "      <th>3</th>\n",
       "      <td></td>\n",
       "      <td></td>\n",
       "      <td></td>\n",
       "      <td>photo voltaic array, firefly algorithm, partia...</td>\n",
       "    </tr>\n",
       "    <tr>\n",
       "      <th>4</th>\n",
       "      <td>2</td>\n",
       "      <td>102</td>\n",
       "      <td>15,4 %</td>\n",
       "      <td>support vector machine,  long  short-term  mem...</td>\n",
       "    </tr>\n",
       "  </tbody>\n",
       "</table>\n",
       "</div>"
      ],
      "text/plain": [
       "  cluster cantidad_de_palabras_clave porcentaje_de_palabras_clave  \\\n",
       "0       1                        105                       15,9 %   \n",
       "1                                                                   \n",
       "2                                                                   \n",
       "3                                                                   \n",
       "4       2                        102                       15,4 %   \n",
       "\n",
       "                          principales_palabras_clave  \n",
       "0  maximum power point tracking, fuzzy-logic base...  \n",
       "1  photo-voltaic  system,  differential   evoluti...  \n",
       "2  algorithm, double-fed induction generator (dfi...  \n",
       "3  photo voltaic array, firefly algorithm, partia...  \n",
       "4  support vector machine,  long  short-term  mem...  "
      ]
     },
     "execution_count": 86,
     "metadata": {},
     "output_type": "execute_result"
    }
   ],
   "source": [
    "dataset=pd.read_fwf(\"clusters_report.txt\", widths = [9, 16, 16, 80], skiprows = [0,1,2,3],\n",
    "    names = ['cluster', 'cantidad_de_palabras_clave', 'porcentaje_de_palabras_clave', 'principales_palabras_clave'], \n",
    "    na_filter = False \n",
    "   \n",
    ")\n",
    "dataset.head()\n",
    "#Definimos el ancho de cada columna para tomar los espacios en blanco del TXT\n",
    "#cambiamos el nombre de las columnas\n",
    " #eliminamos las primeras columnas que incluían otros encabezados\n",
    " #Quitamos los valores NaN de los faltantes"
   ]
  },
  {
   "cell_type": "code",
   "execution_count": 87,
   "metadata": {},
   "outputs": [],
   "source": [
    "#=dataset.replace({\"{principales_palabras_clave\":{\"  \":\" \", \"   \":\" \", \"    \":\" \", \"     \":\" \"}})\n",
    "dataset['principales_palabras_clave'].replace({\"  \": \" \"}, regex=True, inplace=(True))\n",
    "dataset['principales_palabras_clave'].replace({\"   \": \" \"}, regex=True, inplace=(True))\n",
    "dataset['principales_palabras_clave'].replace({\"    \": \" \"}, regex=True, inplace=(True))\n",
    "dataset['principales_palabras_clave'].replace({\"     \": \" \"}, regex=True, inplace=(True))\n",
    "\n",
    "#print(dataset[\"principales_palabras_clave\"])"
   ]
  },
  {
   "cell_type": "code",
   "execution_count": 88,
   "metadata": {},
   "outputs": [],
   "source": [
    "for indice, contenido in enumerate(dataset['cluster']):\n",
    "    if contenido =='':\n",
    "        dataset['cluster'].iloc[indice] = dataset['cluster'].iloc[indice-1]"
   ]
  },
  {
   "cell_type": "code",
   "execution_count": 89,
   "metadata": {},
   "outputs": [],
   "source": [
    "for indice, contenido in enumerate(dataset['cantidad_de_palabras_clave']):\n",
    "    if contenido =='':\n",
    "        dataset['cantidad_de_palabras_clave'].iloc[indice] = dataset['cantidad_de_palabras_clave'].iloc[indice-1]"
   ]
  },
  {
   "cell_type": "code",
   "execution_count": 90,
   "metadata": {},
   "outputs": [],
   "source": [
    "for indice, contenido in enumerate(dataset['porcentaje_de_palabras_clave']):\n",
    "    if contenido =='':\n",
    "        dataset['porcentaje_de_palabras_clave'].iloc[indice] = dataset['porcentaje_de_palabras_clave'].iloc[indice-1]"
   ]
  },
  {
   "cell_type": "code",
   "execution_count": 91,
   "metadata": {},
   "outputs": [],
   "source": [
    "dataset['porcentaje_de_palabras_clave'].replace({\"%\": ''}, regex=True, inplace=(True))\n",
    "dataset['porcentaje_de_palabras_clave'].replace({\",\": '.'}, regex=True, inplace=(True))\n",
    "#print(dataset)"
   ]
  },
  {
   "cell_type": "code",
   "execution_count": 92,
   "metadata": {},
   "outputs": [],
   "source": [
    "dataset['cluster'] = dataset['cluster'].astype(int)\n",
    "dataset['cantidad_de_palabras_clave'] = dataset['cantidad_de_palabras_clave'].astype(int)\n",
    "dataset['porcentaje_de_palabras_clave'] = dataset['porcentaje_de_palabras_clave'].astype(float)"
   ]
  },
  {
   "cell_type": "code",
   "execution_count": 97,
   "metadata": {},
   "outputs": [
    {
     "ename": "ValueError",
     "evalue": "Grouper for 'cluster' not 1-dimensional",
     "output_type": "error",
     "traceback": [
      "\u001b[1;31m---------------------------------------------------------------------------\u001b[0m",
      "\u001b[1;31mValueError\u001b[0m                                Traceback (most recent call last)",
      "Cell \u001b[1;32mIn [97], line 1\u001b[0m\n\u001b[1;32m----> 1\u001b[0m dataset \u001b[39m=\u001b[39m dataset\u001b[39m.\u001b[39;49mgroupby([\u001b[39m'\u001b[39;49m\u001b[39mcluster\u001b[39;49m\u001b[39m'\u001b[39;49m,\u001b[39m'\u001b[39;49m\u001b[39mcantidad_de_palabras_clave\u001b[39;49m\u001b[39m'\u001b[39;49m,\u001b[39m'\u001b[39;49m\u001b[39mporcentaje_de_palabras_clave\u001b[39;49m\u001b[39m'\u001b[39;49m])[\u001b[39m'\u001b[39m\u001b[39mprincipales_palabras_clave\u001b[39m\u001b[39m'\u001b[39m]\u001b[39m.\u001b[39mapply(\u001b[39m'\u001b[39m\u001b[39m \u001b[39m\u001b[39m'\u001b[39m\u001b[39m.\u001b[39mjoin)\u001b[39m.\u001b[39mreset_index()\n\u001b[0;32m      3\u001b[0m dataset[\u001b[39m'\u001b[39m\u001b[39mprincipales_palabras_clave\u001b[39m\u001b[39m'\u001b[39m]\u001b[39m.\u001b[39mreplace({\u001b[39m\"\u001b[39m\u001b[39m, \u001b[39m\u001b[39m\"\u001b[39m: \u001b[39m\"\u001b[39m\u001b[39m,\u001b[39m\u001b[39m\"\u001b[39m}, regex\u001b[39m=\u001b[39m\u001b[39mTrue\u001b[39;00m, inplace\u001b[39m=\u001b[39m(\u001b[39mTrue\u001b[39;00m))\n\u001b[0;32m      4\u001b[0m dataset[\u001b[39m'\u001b[39m\u001b[39mprincipales_palabras_clave\u001b[39m\u001b[39m'\u001b[39m]\u001b[39m.\u001b[39mreplace({\u001b[39m\"\u001b[39m\u001b[39m,\u001b[39m\u001b[39m\"\u001b[39m: \u001b[39m\"\u001b[39m\u001b[39m, \u001b[39m\u001b[39m\"\u001b[39m}, regex\u001b[39m=\u001b[39m\u001b[39mTrue\u001b[39;00m, inplace\u001b[39m=\u001b[39m(\u001b[39mTrue\u001b[39;00m))\n",
      "File \u001b[1;32m~\\AppData\\Local\\Packages\\PythonSoftwareFoundation.Python.3.10_qbz5n2kfra8p0\\LocalCache\\local-packages\\Python310\\site-packages\\pandas\\core\\series.py:2079\u001b[0m, in \u001b[0;36mSeries.groupby\u001b[1;34m(self, by, axis, level, as_index, sort, group_keys, squeeze, observed, dropna)\u001b[0m\n\u001b[0;32m   2076\u001b[0m     \u001b[39mraise\u001b[39;00m \u001b[39mTypeError\u001b[39;00m(\u001b[39m\"\u001b[39m\u001b[39mYou have to supply one of \u001b[39m\u001b[39m'\u001b[39m\u001b[39mby\u001b[39m\u001b[39m'\u001b[39m\u001b[39m and \u001b[39m\u001b[39m'\u001b[39m\u001b[39mlevel\u001b[39m\u001b[39m'\u001b[39m\u001b[39m\"\u001b[39m)\n\u001b[0;32m   2077\u001b[0m axis \u001b[39m=\u001b[39m \u001b[39mself\u001b[39m\u001b[39m.\u001b[39m_get_axis_number(axis)\n\u001b[1;32m-> 2079\u001b[0m \u001b[39mreturn\u001b[39;00m SeriesGroupBy(\n\u001b[0;32m   2080\u001b[0m     obj\u001b[39m=\u001b[39;49m\u001b[39mself\u001b[39;49m,\n\u001b[0;32m   2081\u001b[0m     keys\u001b[39m=\u001b[39;49mby,\n\u001b[0;32m   2082\u001b[0m     axis\u001b[39m=\u001b[39;49maxis,\n\u001b[0;32m   2083\u001b[0m     level\u001b[39m=\u001b[39;49mlevel,\n\u001b[0;32m   2084\u001b[0m     as_index\u001b[39m=\u001b[39;49mas_index,\n\u001b[0;32m   2085\u001b[0m     sort\u001b[39m=\u001b[39;49msort,\n\u001b[0;32m   2086\u001b[0m     group_keys\u001b[39m=\u001b[39;49mgroup_keys,\n\u001b[0;32m   2087\u001b[0m     squeeze\u001b[39m=\u001b[39;49msqueeze,\n\u001b[0;32m   2088\u001b[0m     observed\u001b[39m=\u001b[39;49mobserved,\n\u001b[0;32m   2089\u001b[0m     dropna\u001b[39m=\u001b[39;49mdropna,\n\u001b[0;32m   2090\u001b[0m )\n",
      "File \u001b[1;32m~\\AppData\\Local\\Packages\\PythonSoftwareFoundation.Python.3.10_qbz5n2kfra8p0\\LocalCache\\local-packages\\Python310\\site-packages\\pandas\\core\\groupby\\groupby.py:959\u001b[0m, in \u001b[0;36mGroupBy.__init__\u001b[1;34m(self, obj, keys, axis, level, grouper, exclusions, selection, as_index, sort, group_keys, squeeze, observed, mutated, dropna)\u001b[0m\n\u001b[0;32m    956\u001b[0m \u001b[39mif\u001b[39;00m grouper \u001b[39mis\u001b[39;00m \u001b[39mNone\u001b[39;00m:\n\u001b[0;32m    957\u001b[0m     \u001b[39mfrom\u001b[39;00m \u001b[39mpandas\u001b[39;00m\u001b[39m.\u001b[39;00m\u001b[39mcore\u001b[39;00m\u001b[39m.\u001b[39;00m\u001b[39mgroupby\u001b[39;00m\u001b[39m.\u001b[39;00m\u001b[39mgrouper\u001b[39;00m \u001b[39mimport\u001b[39;00m get_grouper\n\u001b[1;32m--> 959\u001b[0m     grouper, exclusions, obj \u001b[39m=\u001b[39m get_grouper(\n\u001b[0;32m    960\u001b[0m         obj,\n\u001b[0;32m    961\u001b[0m         keys,\n\u001b[0;32m    962\u001b[0m         axis\u001b[39m=\u001b[39;49maxis,\n\u001b[0;32m    963\u001b[0m         level\u001b[39m=\u001b[39;49mlevel,\n\u001b[0;32m    964\u001b[0m         sort\u001b[39m=\u001b[39;49msort,\n\u001b[0;32m    965\u001b[0m         observed\u001b[39m=\u001b[39;49mobserved,\n\u001b[0;32m    966\u001b[0m         mutated\u001b[39m=\u001b[39;49m\u001b[39mself\u001b[39;49m\u001b[39m.\u001b[39;49mmutated,\n\u001b[0;32m    967\u001b[0m         dropna\u001b[39m=\u001b[39;49m\u001b[39mself\u001b[39;49m\u001b[39m.\u001b[39;49mdropna,\n\u001b[0;32m    968\u001b[0m     )\n\u001b[0;32m    970\u001b[0m \u001b[39mself\u001b[39m\u001b[39m.\u001b[39mobj \u001b[39m=\u001b[39m obj\n\u001b[0;32m    971\u001b[0m \u001b[39mself\u001b[39m\u001b[39m.\u001b[39maxis \u001b[39m=\u001b[39m obj\u001b[39m.\u001b[39m_get_axis_number(axis)\n",
      "File \u001b[1;32m~\\AppData\\Local\\Packages\\PythonSoftwareFoundation.Python.3.10_qbz5n2kfra8p0\\LocalCache\\local-packages\\Python310\\site-packages\\pandas\\core\\groupby\\grouper.py:884\u001b[0m, in \u001b[0;36mget_grouper\u001b[1;34m(obj, key, axis, level, sort, observed, mutated, validate, dropna)\u001b[0m\n\u001b[0;32m    880\u001b[0m     in_axis, name, gpr \u001b[39m=\u001b[39m \u001b[39mTrue\u001b[39;00m, gpr, obj[gpr]\n\u001b[0;32m    881\u001b[0m     \u001b[39mif\u001b[39;00m gpr\u001b[39m.\u001b[39mndim \u001b[39m!=\u001b[39m \u001b[39m1\u001b[39m:\n\u001b[0;32m    882\u001b[0m         \u001b[39m# non-unique columns; raise here to get the name in the\u001b[39;00m\n\u001b[0;32m    883\u001b[0m         \u001b[39m# exception message\u001b[39;00m\n\u001b[1;32m--> 884\u001b[0m         \u001b[39mraise\u001b[39;00m \u001b[39mValueError\u001b[39;00m(\u001b[39mf\u001b[39m\u001b[39m\"\u001b[39m\u001b[39mGrouper for \u001b[39m\u001b[39m'\u001b[39m\u001b[39m{\u001b[39;00mname\u001b[39m}\u001b[39;00m\u001b[39m'\u001b[39m\u001b[39m not 1-dimensional\u001b[39m\u001b[39m\"\u001b[39m)\n\u001b[0;32m    885\u001b[0m     exclusions\u001b[39m.\u001b[39madd(name)\n\u001b[0;32m    886\u001b[0m \u001b[39melif\u001b[39;00m obj\u001b[39m.\u001b[39m_is_level_reference(gpr, axis\u001b[39m=\u001b[39maxis):\n",
      "\u001b[1;31mValueError\u001b[0m: Grouper for 'cluster' not 1-dimensional"
     ]
    }
   ],
   "source": [
    "dataset = dataset.groupby(['cluster','cantidad_de_palabras_clave','porcentaje_de_palabras_clave'])['principales_palabras_clave'].apply(' '.join).reset_index()\n",
    "\n",
    "dataset['principales_palabras_clave'].replace({\", \": \",\"}, regex=True, inplace=(True))\n",
    "dataset['principales_palabras_clave'].replace({\",\": \", \"}, regex=True, inplace=(True))\n",
    "dataset['principales_palabras_clave']=dataset['principales_palabras_clave'].str.strip()\n",
    "\n",
    "#print(dataset['principales_palabras_clave'][0])"
   ]
  },
  {
   "cell_type": "code",
   "execution_count": 78,
   "metadata": {},
   "outputs": [],
   "source": [
    "dataset[\"principales_palabras_clave\"] = dataset[\"principales_palabras_clave\"].str.rstrip('.')\n",
    "#dataset['principales_palabras_clave'].str.rstrip('principales_palabras_clave'[-2])\n",
    "#dataset['principales_palabras_clave'].replace({'.': ''}, regex=True, inplace=(True))\n",
    "\n",
    "#print(dataset['principales_palabras_clave'][0])\n"
   ]
  },
  {
   "cell_type": "code",
   "execution_count": 79,
   "metadata": {},
   "outputs": [
    {
     "name": "stdout",
     "output_type": "stream",
     "text": [
      "maximum power point tracking, fuzzy-logic based control, photo voltaic (pv), photo-voltaic system, differential evolution algorithm, evolutionaryalgorithm, double-fed induction generator (dfig), ant colony optimisation, photo voltaic array, firefly algorithm, partial shade\n"
     ]
    }
   ],
   "source": [
    "print(dataset['principales_palabras_clave'][0])"
   ]
  },
  {
   "cell_type": "code",
   "execution_count": 81,
   "metadata": {},
   "outputs": [
    {
     "name": "stdout",
     "output_type": "stream",
     "text": [
      "support vector machine, long short-term memory, back-propagation neuralnetwork, convolution neural network, speed wind prediction, energyconsumption, wind power forecasting, extreme learning machine, recurrent-neural-network (rnn), radial basis function (rbf) networks, windfarm\n"
     ]
    }
   ],
   "source": [
    "print(dataset['principales_palabras_clave'][1])"
   ]
  },
  {
   "cell_type": "code",
   "execution_count": 55,
   "metadata": {},
   "outputs": [
    {
     "name": "stdout",
     "output_type": "stream",
     "text": [
      "smart grid, wind power, reinforcement learning, energy management, energyefficiency, solar energy, deep reinforcement learning, demand-response (dr),internet of things, energy harvester, q-learning\n"
     ]
    }
   ],
   "source": [
    "print(dataset['principales_palabras_clave'][2])"
   ]
  },
  {
   "cell_type": "code",
   "execution_count": 80,
   "metadata": {},
   "outputs": [
    {
     "data": {
      "text/plain": [
       "False"
      ]
     },
     "execution_count": 80,
     "metadata": {},
     "output_type": "execute_result"
    }
   ],
   "source": [
    "dataset['principales_palabras_clave'][0] == \"maximum power point tracking, fuzzy-logic based control, photo voltaic (pv), photo-voltaic system, differential evolution algorithm, evolutionary algorithm, double-fed induction generator (dfig), ant colony optimisation, photo voltaic array, firefly algorithm, partial shade\""
   ]
  }
 ],
 "metadata": {
  "kernelspec": {
   "display_name": "Python 3.10.8 64-bit (microsoft store)",
   "language": "python",
   "name": "python3"
  },
  "language_info": {
   "codemirror_mode": {
    "name": "ipython",
    "version": 3
   },
   "file_extension": ".py",
   "mimetype": "text/x-python",
   "name": "python",
   "nbconvert_exporter": "python",
   "pygments_lexer": "ipython3",
   "version": "3.10.8"
  },
  "orig_nbformat": 4,
  "vscode": {
   "interpreter": {
    "hash": "d48aa67a9e3abb47a502c9c24e35edce279ee86d3fa64d9253e5e92d1c0524e7"
   }
  }
 },
 "nbformat": 4,
 "nbformat_minor": 2
}
